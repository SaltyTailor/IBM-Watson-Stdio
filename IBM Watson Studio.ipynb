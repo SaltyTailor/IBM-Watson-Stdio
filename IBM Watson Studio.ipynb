{
 "cells": [
  {
   "cell_type": "markdown",
   "id": "ebfeeb4f-c8e1-4570-b7f0-94032927e96c",
   "metadata": {},
   "source": [
    "# My Jupyter Notebook on IBM Watson Studio"
   ]
  },
  {
   "cell_type": "markdown",
   "id": "d302acb8-cc97-4132-aa6b-59ca690506ec",
   "metadata": {},
   "source": [
    "*By Taylor Stallman*"
   ]
  },
  {
   "cell_type": "markdown",
   "id": "697c2d12-3c6b-4e4b-9695-b68076fe2562",
   "metadata": {},
   "source": [
    "## Objectives:"
   ]
  },
  {
   "cell_type": "markdown",
   "id": "180ff3bc-0cce-4344-b00d-4dd7ad2afc66",
   "metadata": {},
   "source": [
    "**Final Project:** <br> For the project scenario, here is an overview of your tasks. The following reading sections will provide you with detailed instructions for each task. <br> **Project Tasks:** <br> Task 1: Familiarize yourself with the dataset. <br> Task 2: Generate basic statistics and visualizations for upper management. <br> Task 3: Use the appropriate tests to answer the questions provided. <br> Task 4: Share your Jupyter Notebook."
   ]
  },
  {
   "cell_type": "markdown",
   "id": "79308038-d4fa-4c75-8dbd-4955b7d5c585",
   "metadata": {},
   "source": [
    "## Import libraries"
   ]
  },
  {
   "cell_type": "code",
   "execution_count": 1,
   "id": "a59520f9-6053-49e0-bbeb-85b1b18e71da",
   "metadata": {},
   "outputs": [
    {
     "ename": "ModuleNotFoundError",
     "evalue": "No module named 'statsmodels'",
     "output_type": "error",
     "traceback": [
      "\u001b[1;31m---------------------------------------------------------------------------\u001b[0m",
      "\u001b[1;31mModuleNotFoundError\u001b[0m                       Traceback (most recent call last)",
      "Cell \u001b[1;32mIn[1], line 3\u001b[0m\n\u001b[0;32m      1\u001b[0m \u001b[38;5;28;01mimport\u001b[39;00m \u001b[38;5;21;01mnumpy\u001b[39;00m \u001b[38;5;28;01mas\u001b[39;00m \u001b[38;5;21;01mnp\u001b[39;00m\n\u001b[0;32m      2\u001b[0m \u001b[38;5;28;01mimport\u001b[39;00m \u001b[38;5;21;01mpandas\u001b[39;00m \u001b[38;5;28;01mas\u001b[39;00m \u001b[38;5;21;01mpd\u001b[39;00m\n\u001b[1;32m----> 3\u001b[0m \u001b[38;5;28;01mimport\u001b[39;00m \u001b[38;5;21;01mstatsmodels\u001b[39;00m\u001b[38;5;21;01m.\u001b[39;00m\u001b[38;5;21;01mapi\u001b[39;00m \u001b[38;5;28;01mas\u001b[39;00m \u001b[38;5;21;01msm\u001b[39;00m\n\u001b[0;32m      4\u001b[0m \u001b[38;5;28;01mimport\u001b[39;00m \u001b[38;5;21;01mseaborn\u001b[39;00m \u001b[38;5;28;01mas\u001b[39;00m \u001b[38;5;21;01msns\u001b[39;00m\n\u001b[0;32m      5\u001b[0m \u001b[38;5;28;01mimport\u001b[39;00m \u001b[38;5;21;01mmatplotlib\u001b[39;00m\u001b[38;5;21;01m.\u001b[39;00m\u001b[38;5;21;01mpyplot\u001b[39;00m \u001b[38;5;28;01mas\u001b[39;00m \u001b[38;5;21;01mplt\u001b[39;00m \n",
      "\u001b[1;31mModuleNotFoundError\u001b[0m: No module named 'statsmodels'"
     ]
    }
   ],
   "source": [
    "import numpy as np\n",
    "import pandas as pd\n",
    "import statsmodels.api as sm\n",
    "import seaborn as sns\n",
    "import matplotlib.pyplot as plt \n",
    "import scipy.stats\n",
    "\n",
    "sns.set(rc={'figure.figsize':(11.7,8.27)})"
   ]
  },
  {
   "cell_type": "code",
   "execution_count": 2,
   "id": "f3489c9a-52d6-4620-be1b-d20e33945b1e",
   "metadata": {},
   "outputs": [],
   "source": [
    "# Read the CSV file required for the assignment\n",
    "\n",
    "boston_url = 'https://cf-courses-data.s3.us.cloud-object-storage.appdomain.cloud/IBMDeveloperSkillsNetwork-ST0151EN-SkillsNetwork/labs/boston_housing.csv'\n",
    "boston_df = pd.read_csv(boston_url)"
   ]
  },
  {
   "cell_type": "markdown",
   "id": "d3d44b26-b42c-45de-9e8e-663c9c52db53",
   "metadata": {},
   "source": [
    "## Assignment Exercise"
   ]
  },
  {
   "cell_type": "code",
   "execution_count": 3,
   "id": "3a4e5a7e-f1f9-46c6-bba2-c4f83f703e7d",
   "metadata": {},
   "outputs": [
    {
     "data": {
      "text/html": [
       "<div>\n",
       "<style scoped>\n",
       "    .dataframe tbody tr th:only-of-type {\n",
       "        vertical-align: middle;\n",
       "    }\n",
       "\n",
       "    .dataframe tbody tr th {\n",
       "        vertical-align: top;\n",
       "    }\n",
       "\n",
       "    .dataframe thead th {\n",
       "        text-align: right;\n",
       "    }\n",
       "</style>\n",
       "<table border=\"1\" class=\"dataframe\">\n",
       "  <thead>\n",
       "    <tr style=\"text-align: right;\">\n",
       "      <th></th>\n",
       "      <th>Unnamed: 0</th>\n",
       "      <th>CRIM</th>\n",
       "      <th>ZN</th>\n",
       "      <th>INDUS</th>\n",
       "      <th>CHAS</th>\n",
       "      <th>NOX</th>\n",
       "      <th>RM</th>\n",
       "      <th>AGE</th>\n",
       "      <th>DIS</th>\n",
       "      <th>RAD</th>\n",
       "      <th>TAX</th>\n",
       "      <th>PTRATIO</th>\n",
       "      <th>LSTAT</th>\n",
       "      <th>MEDV</th>\n",
       "    </tr>\n",
       "  </thead>\n",
       "  <tbody>\n",
       "    <tr>\n",
       "      <th>0</th>\n",
       "      <td>0</td>\n",
       "      <td>0.00632</td>\n",
       "      <td>18.0</td>\n",
       "      <td>2.31</td>\n",
       "      <td>0.0</td>\n",
       "      <td>0.538</td>\n",
       "      <td>6.575</td>\n",
       "      <td>65.2</td>\n",
       "      <td>4.0900</td>\n",
       "      <td>1.0</td>\n",
       "      <td>296.0</td>\n",
       "      <td>15.3</td>\n",
       "      <td>4.98</td>\n",
       "      <td>24.0</td>\n",
       "    </tr>\n",
       "    <tr>\n",
       "      <th>1</th>\n",
       "      <td>1</td>\n",
       "      <td>0.02731</td>\n",
       "      <td>0.0</td>\n",
       "      <td>7.07</td>\n",
       "      <td>0.0</td>\n",
       "      <td>0.469</td>\n",
       "      <td>6.421</td>\n",
       "      <td>78.9</td>\n",
       "      <td>4.9671</td>\n",
       "      <td>2.0</td>\n",
       "      <td>242.0</td>\n",
       "      <td>17.8</td>\n",
       "      <td>9.14</td>\n",
       "      <td>21.6</td>\n",
       "    </tr>\n",
       "    <tr>\n",
       "      <th>2</th>\n",
       "      <td>2</td>\n",
       "      <td>0.02729</td>\n",
       "      <td>0.0</td>\n",
       "      <td>7.07</td>\n",
       "      <td>0.0</td>\n",
       "      <td>0.469</td>\n",
       "      <td>7.185</td>\n",
       "      <td>61.1</td>\n",
       "      <td>4.9671</td>\n",
       "      <td>2.0</td>\n",
       "      <td>242.0</td>\n",
       "      <td>17.8</td>\n",
       "      <td>4.03</td>\n",
       "      <td>34.7</td>\n",
       "    </tr>\n",
       "    <tr>\n",
       "      <th>3</th>\n",
       "      <td>3</td>\n",
       "      <td>0.03237</td>\n",
       "      <td>0.0</td>\n",
       "      <td>2.18</td>\n",
       "      <td>0.0</td>\n",
       "      <td>0.458</td>\n",
       "      <td>6.998</td>\n",
       "      <td>45.8</td>\n",
       "      <td>6.0622</td>\n",
       "      <td>3.0</td>\n",
       "      <td>222.0</td>\n",
       "      <td>18.7</td>\n",
       "      <td>2.94</td>\n",
       "      <td>33.4</td>\n",
       "    </tr>\n",
       "    <tr>\n",
       "      <th>4</th>\n",
       "      <td>4</td>\n",
       "      <td>0.06905</td>\n",
       "      <td>0.0</td>\n",
       "      <td>2.18</td>\n",
       "      <td>0.0</td>\n",
       "      <td>0.458</td>\n",
       "      <td>7.147</td>\n",
       "      <td>54.2</td>\n",
       "      <td>6.0622</td>\n",
       "      <td>3.0</td>\n",
       "      <td>222.0</td>\n",
       "      <td>18.7</td>\n",
       "      <td>5.33</td>\n",
       "      <td>36.2</td>\n",
       "    </tr>\n",
       "  </tbody>\n",
       "</table>\n",
       "</div>"
      ],
      "text/plain": [
       "   Unnamed: 0     CRIM    ZN  INDUS  CHAS    NOX     RM   AGE     DIS  RAD  \\\n",
       "0           0  0.00632  18.0   2.31   0.0  0.538  6.575  65.2  4.0900  1.0   \n",
       "1           1  0.02731   0.0   7.07   0.0  0.469  6.421  78.9  4.9671  2.0   \n",
       "2           2  0.02729   0.0   7.07   0.0  0.469  7.185  61.1  4.9671  2.0   \n",
       "3           3  0.03237   0.0   2.18   0.0  0.458  6.998  45.8  6.0622  3.0   \n",
       "4           4  0.06905   0.0   2.18   0.0  0.458  7.147  54.2  6.0622  3.0   \n",
       "\n",
       "     TAX  PTRATIO  LSTAT  MEDV  \n",
       "0  296.0     15.3   4.98  24.0  \n",
       "1  242.0     17.8   9.14  21.6  \n",
       "2  242.0     17.8   4.03  34.7  \n",
       "3  222.0     18.7   2.94  33.4  \n",
       "4  222.0     18.7   5.33  36.2  "
      ]
     },
     "execution_count": 3,
     "metadata": {},
     "output_type": "execute_result"
    }
   ],
   "source": [
    "boston_df.head()"
   ]
  },
  {
   "cell_type": "markdown",
   "id": "ddb44d31-bc1a-4fdc-9784-361cf292fc31",
   "metadata": {},
   "source": [
    "## Task 2: Generate basic statistics and visualizations for upper management"
   ]
  },
  {
   "cell_type": "code",
   "execution_count": 4,
   "id": "643512ef-108d-4dde-b3b4-3f8568c72692",
   "metadata": {},
   "outputs": [
    {
     "ename": "NameError",
     "evalue": "name 'sns' is not defined",
     "output_type": "error",
     "traceback": [
      "\u001b[1;31m---------------------------------------------------------------------------\u001b[0m",
      "\u001b[1;31mNameError\u001b[0m                                 Traceback (most recent call last)",
      "Cell \u001b[1;32mIn[4], line 2\u001b[0m\n\u001b[0;32m      1\u001b[0m \u001b[38;5;66;03m# Boxplot of median value of owner-occupied homes\u001b[39;00m\n\u001b[1;32m----> 2\u001b[0m ax \u001b[38;5;241m=\u001b[39m \u001b[43msns\u001b[49m\u001b[38;5;241m.\u001b[39mboxplot(y\u001b[38;5;241m=\u001b[39m\u001b[38;5;124m'\u001b[39m\u001b[38;5;124mMEDV\u001b[39m\u001b[38;5;124m'\u001b[39m, data \u001b[38;5;241m=\u001b[39m boston_df)\u001b[38;5;241m.\u001b[39mset_title(\u001b[38;5;124m'\u001b[39m\u001b[38;5;124mMedian Value of Owner-Occupied Homes\u001b[39m\u001b[38;5;124m'\u001b[39m)\n",
      "\u001b[1;31mNameError\u001b[0m: name 'sns' is not defined"
     ]
    }
   ],
   "source": [
    "# Boxplot of median value of owner-occupied homes\n",
    "ax = sns.boxplot(y='MEDV', data = boston_df).set_title('Median Value of Owner-Occupied Homes')"
   ]
  },
  {
   "cell_type": "code",
   "execution_count": 6,
   "id": "99ceab83-f195-4056-8ea2-39c00b0c54cc",
   "metadata": {},
   "outputs": [
    {
     "ename": "NameError",
     "evalue": "name 'sns' is not defined",
     "output_type": "error",
     "traceback": [
      "\u001b[1;31m---------------------------------------------------------------------------\u001b[0m",
      "\u001b[1;31mNameError\u001b[0m                                 Traceback (most recent call last)",
      "Cell \u001b[1;32mIn[6], line 9\u001b[0m\n\u001b[0;32m      6\u001b[0m boston_df\u001b[38;5;241m.\u001b[39mloc[(boston_df[\u001b[38;5;124m'\u001b[39m\u001b[38;5;124mAGE\u001b[39m\u001b[38;5;124m'\u001b[39m]\u001b[38;5;241m>\u001b[39m\u001b[38;5;241m35\u001b[39m)\u001b[38;5;241m&\u001b[39m(boston_df[\u001b[38;5;124m'\u001b[39m\u001b[38;5;124mAGE\u001b[39m\u001b[38;5;124m'\u001b[39m] \u001b[38;5;241m<\u001b[39m \u001b[38;5;241m70\u001b[39m), \u001b[38;5;124m'\u001b[39m\u001b[38;5;124mage_group\u001b[39m\u001b[38;5;124m'\u001b[39m] \u001b[38;5;241m=\u001b[39m \u001b[38;5;124m'\u001b[39m\u001b[38;5;124mbetween 35 and 70 years\u001b[39m\u001b[38;5;124m'\u001b[39m\n\u001b[0;32m      8\u001b[0m \u001b[38;5;66;03m# Create boxplot\u001b[39;00m\n\u001b[1;32m----> 9\u001b[0m \u001b[43msns\u001b[49m\u001b[38;5;241m.\u001b[39mset(style\u001b[38;5;241m=\u001b[39m\u001b[38;5;124m\"\u001b[39m\u001b[38;5;124mwhitegrid\u001b[39m\u001b[38;5;124m\"\u001b[39m)\n\u001b[0;32m     10\u001b[0m plt\u001b[38;5;241m.\u001b[39mfigure(figsize\u001b[38;5;241m=\u001b[39m(\u001b[38;5;241m16\u001b[39m, \u001b[38;5;241m6\u001b[39m))\n\u001b[0;32m     11\u001b[0m ax \u001b[38;5;241m=\u001b[39m sns\u001b[38;5;241m.\u001b[39mboxplot(x\u001b[38;5;241m=\u001b[39m\u001b[38;5;124m'\u001b[39m\u001b[38;5;124mage_group\u001b[39m\u001b[38;5;124m'\u001b[39m, y\u001b[38;5;241m=\u001b[39m\u001b[38;5;124m'\u001b[39m\u001b[38;5;124mMEDV\u001b[39m\u001b[38;5;124m'\u001b[39m, data\u001b[38;5;241m=\u001b[39mboston_df)\n",
      "\u001b[1;31mNameError\u001b[0m: name 'sns' is not defined"
     ]
    }
   ],
   "source": [
    "# Provide a boxplot for the MEDV variable vs the AGE variable. (Discretize the age variable into three groups of 35 years and younger, between 35 and 70 years and 70 years and older)\n",
    "\n",
    "# Create discrete age groups\n",
    "boston_df.loc[(boston_df['AGE'] <= 35), 'age_group'] = '35 years and newer'\n",
    "boston_df.loc[(boston_df['AGE'] >= 70), 'age_group'] = '70 years and older'\n",
    "boston_df.loc[(boston_df['AGE']>35)&(boston_df['AGE'] < 70), 'age_group'] = 'between 35 and 70 years'\n",
    "\n",
    "# Create boxplot\n",
    "sns.set(style=\"whitegrid\")\n",
    "plt.figure(figsize=(16, 6))\n",
    "ax = sns.boxplot(x='age_group', y='MEDV', data=boston_df)"
   ]
  },
  {
   "cell_type": "code",
   "execution_count": 7,
   "id": "18dac099-04a0-4cc7-965e-903555e8889a",
   "metadata": {},
   "outputs": [
    {
     "ename": "NameError",
     "evalue": "name 'sns' is not defined",
     "output_type": "error",
     "traceback": [
      "\u001b[1;31m---------------------------------------------------------------------------\u001b[0m",
      "\u001b[1;31mNameError\u001b[0m                                 Traceback (most recent call last)",
      "Cell \u001b[1;32mIn[7], line 2\u001b[0m\n\u001b[0;32m      1\u001b[0m \u001b[38;5;66;03m# Provide a scatter plot to show the relationship between Nitric oxide concentrations and the proportion of non-retail business acres per town. What can you say about the relationship?\u001b[39;00m\n\u001b[1;32m----> 2\u001b[0m ax \u001b[38;5;241m=\u001b[39m \u001b[43msns\u001b[49m\u001b[38;5;241m.\u001b[39mscatterplot(x\u001b[38;5;241m=\u001b[39m\u001b[38;5;124m'\u001b[39m\u001b[38;5;124mNOX\u001b[39m\u001b[38;5;124m'\u001b[39m, y\u001b[38;5;241m=\u001b[39m\u001b[38;5;124m'\u001b[39m\u001b[38;5;124mINDUS\u001b[39m\u001b[38;5;124m'\u001b[39m, data \u001b[38;5;241m=\u001b[39m boston_df)\n",
      "\u001b[1;31mNameError\u001b[0m: name 'sns' is not defined"
     ]
    }
   ],
   "source": [
    "# Provide a scatter plot to show the relationship between Nitric oxide concentrations and the proportion of non-retail business acres per town. What can you say about the relationship?\n",
    "ax = sns.scatterplot(x='NOX', y='INDUS', data = boston_df)"
   ]
  },
  {
   "cell_type": "code",
   "execution_count": 8,
   "id": "bc189cd9-cbc1-4436-9e85-588b25964a89",
   "metadata": {},
   "outputs": [
    {
     "ename": "NameError",
     "evalue": "name 'sns' is not defined",
     "output_type": "error",
     "traceback": [
      "\u001b[1;31m---------------------------------------------------------------------------\u001b[0m",
      "\u001b[1;31mNameError\u001b[0m                                 Traceback (most recent call last)",
      "Cell \u001b[1;32mIn[8], line 2\u001b[0m\n\u001b[0;32m      1\u001b[0m \u001b[38;5;66;03m# Create a histogram for the pupil to teacher ratio variable\u001b[39;00m\n\u001b[1;32m----> 2\u001b[0m chart \u001b[38;5;241m=\u001b[39m \u001b[43msns\u001b[49m\u001b[38;5;241m.\u001b[39mcatplot(x\u001b[38;5;241m=\u001b[39m\u001b[38;5;124m'\u001b[39m\u001b[38;5;124mPTRATIO\u001b[39m\u001b[38;5;124m'\u001b[39m, kind\u001b[38;5;241m=\u001b[39m\u001b[38;5;124m'\u001b[39m\u001b[38;5;124mcount\u001b[39m\u001b[38;5;124m'\u001b[39m, height\u001b[38;5;241m=\u001b[39m\u001b[38;5;241m8.27\u001b[39m, aspect \u001b[38;5;241m=\u001b[39m \u001b[38;5;241m1.5\u001b[39m, palette\u001b[38;5;241m=\u001b[39m\u001b[38;5;124m'\u001b[39m\u001b[38;5;124mtwilight\u001b[39m\u001b[38;5;124m'\u001b[39m ,data \u001b[38;5;241m=\u001b[39m boston_df)\n\u001b[0;32m      3\u001b[0m chart\u001b[38;5;241m.\u001b[39mset_xticklabels(rotation\u001b[38;5;241m=\u001b[39m\u001b[38;5;241m65\u001b[39m, horizontalalignment\u001b[38;5;241m=\u001b[39m\u001b[38;5;124m'\u001b[39m\u001b[38;5;124mright\u001b[39m\u001b[38;5;124m'\u001b[39m)\n",
      "\u001b[1;31mNameError\u001b[0m: name 'sns' is not defined"
     ]
    }
   ],
   "source": [
    "# Create a histogram for the pupil to teacher ratio variable\n",
    "chart = sns.catplot(x='PTRATIO', kind='count', height=8.27, aspect = 1.5, palette='twilight' ,data = boston_df)\n",
    "chart.set_xticklabels(rotation=65, horizontalalignment='right')"
   ]
  },
  {
   "cell_type": "markdown",
   "id": "732d608c-7388-47ca-9c4d-248d8010359b",
   "metadata": {},
   "source": [
    "## Task 3: Use the appropriate tests to answer the questions provided"
   ]
  },
  {
   "cell_type": "markdown",
   "id": "a9464224-0e52-49d7-b6ea-7f8c5a3f18cc",
   "metadata": {},
   "source": [
    "**Be sure to:** <br> State your hypothesis. <br> Use a = 0.05 <br> Perform the test Statistics. <br> State the conclusion from the test."
   ]
  },
  {
   "cell_type": "markdown",
   "id": "ec5fcf14-d77d-43ba-aeb2-096acec75731",
   "metadata": {},
   "source": [
    "Is there a significant difference in median value of houses bounded by the Charles river or not? (T-test for independent samples) <br> State the hypothesis: <br> -   $H_0: u1 = u2$ (\\\"there is no difference in the median value of houses bounded by the Charles river\\\") <br> -   $H_1: u1 != u2$ (\\\"there is a difference in the median value of houses bounded by the Charles river\\\")"
   ]
  },
  {
   "cell_type": "code",
   "execution_count": 9,
   "id": "6f2072f3-6655-4d55-9bd9-0c04e5e17aee",
   "metadata": {},
   "outputs": [
    {
     "ename": "NameError",
     "evalue": "name 'scipy' is not defined",
     "output_type": "error",
     "traceback": [
      "\u001b[1;31m---------------------------------------------------------------------------\u001b[0m",
      "\u001b[1;31mNameError\u001b[0m                                 Traceback (most recent call last)",
      "Cell \u001b[1;32mIn[9], line 1\u001b[0m\n\u001b[1;32m----> 1\u001b[0m \u001b[43mscipy\u001b[49m\u001b[38;5;241m.\u001b[39mstats\u001b[38;5;241m.\u001b[39mttest_ind(boston_df[boston_df[\u001b[38;5;124m'\u001b[39m\u001b[38;5;124mCHAS\u001b[39m\u001b[38;5;124m'\u001b[39m] \u001b[38;5;241m==\u001b[39m \u001b[38;5;241m1\u001b[39m][\u001b[38;5;124m'\u001b[39m\u001b[38;5;124mMEDV\u001b[39m\u001b[38;5;124m'\u001b[39m],\n\u001b[0;32m      2\u001b[0m                  boston_df[boston_df[\u001b[38;5;124m'\u001b[39m\u001b[38;5;124mCHAS\u001b[39m\u001b[38;5;124m'\u001b[39m]\u001b[38;5;241m==\u001b[39m \u001b[38;5;241m0\u001b[39m][\u001b[38;5;124m'\u001b[39m\u001b[38;5;124mMEDV\u001b[39m\u001b[38;5;124m'\u001b[39m],\n\u001b[0;32m      3\u001b[0m                  equal_var \u001b[38;5;241m=\u001b[39m \u001b[38;5;28;01mTrue\u001b[39;00m)\n",
      "\u001b[1;31mNameError\u001b[0m: name 'scipy' is not defined"
     ]
    }
   ],
   "source": [
    "scipy.stats.ttest_ind(boston_df[boston_df['CHAS'] == 1]['MEDV'],\n",
    "                 boston_df[boston_df['CHAS']== 0]['MEDV'],\n",
    "                 equal_var = True)"
   ]
  },
  {
   "cell_type": "markdown",
   "id": "eb6fafe2-9eeb-4340-992e-cab656684064",
   "metadata": {},
   "source": [
    "**Conclusion**: Since the P-value is greater than 0.05, we accept the null hypothesis as there is not enough proof that there is a statistical difference in median house prices based on proximity to Charles river."
   ]
  },
  {
   "cell_type": "markdown",
   "id": "876c92ce-a99c-41d0-9e77-3bfe8ec3d6a6",
   "metadata": {},
   "source": [
    "Is there a difference in Median values of houses (MEDV) for each proportion of owner occupied units built prior to 1940 (AGE)? (ANOVA) <br> State the hypothesis: <br> -   $H_0: u1 = u2 = u3$ (the three population means are equal) <br> -   $H_1:$ At least one of the means differs"
   ]
  },
  {
   "cell_type": "code",
   "execution_count": 10,
   "id": "f1ea9a93-3330-43e9-9411-64a730071a76",
   "metadata": {},
   "outputs": [
    {
     "ename": "NameError",
     "evalue": "name 'scipy' is not defined",
     "output_type": "error",
     "traceback": [
      "\u001b[1;31m---------------------------------------------------------------------------\u001b[0m",
      "\u001b[1;31mNameError\u001b[0m                                 Traceback (most recent call last)",
      "Cell \u001b[1;32mIn[10], line 1\u001b[0m\n\u001b[1;32m----> 1\u001b[0m \u001b[43mscipy\u001b[49m\u001b[38;5;241m.\u001b[39mstats\u001b[38;5;241m.\u001b[39mlevene(boston_df[boston_df[\u001b[38;5;124m'\u001b[39m\u001b[38;5;124mage_group\u001b[39m\u001b[38;5;124m'\u001b[39m] \u001b[38;5;241m==\u001b[39m \u001b[38;5;124m'\u001b[39m\u001b[38;5;124m35 years and newer\u001b[39m\u001b[38;5;124m'\u001b[39m][\u001b[38;5;124m'\u001b[39m\u001b[38;5;124mMEDV\u001b[39m\u001b[38;5;124m'\u001b[39m],\n\u001b[0;32m      2\u001b[0m                    boston_df[boston_df[\u001b[38;5;124m'\u001b[39m\u001b[38;5;124mage_group\u001b[39m\u001b[38;5;124m'\u001b[39m] \u001b[38;5;241m==\u001b[39m \u001b[38;5;124m'\u001b[39m\u001b[38;5;124mbetween 35 and 70 years\u001b[39m\u001b[38;5;124m'\u001b[39m][\u001b[38;5;124m'\u001b[39m\u001b[38;5;124mMEDV\u001b[39m\u001b[38;5;124m'\u001b[39m],\n\u001b[0;32m      3\u001b[0m                    boston_df[boston_df[\u001b[38;5;124m'\u001b[39m\u001b[38;5;124mage_group\u001b[39m\u001b[38;5;124m'\u001b[39m] \u001b[38;5;241m==\u001b[39m \u001b[38;5;124m'\u001b[39m\u001b[38;5;124m70 years and older\u001b[39m\u001b[38;5;124m'\u001b[39m][\u001b[38;5;124m'\u001b[39m\u001b[38;5;124mMEDV\u001b[39m\u001b[38;5;124m'\u001b[39m],\n\u001b[0;32m      4\u001b[0m                    center\u001b[38;5;241m=\u001b[39m\u001b[38;5;124m'\u001b[39m\u001b[38;5;124mmean\u001b[39m\u001b[38;5;124m'\u001b[39m\n\u001b[0;32m      5\u001b[0m                   )\n",
      "\u001b[1;31mNameError\u001b[0m: name 'scipy' is not defined"
     ]
    }
   ],
   "source": [
    "scipy.stats.levene(boston_df[boston_df['age_group'] == '35 years and newer']['MEDV'],\n",
    "                   boston_df[boston_df['age_group'] == 'between 35 and 70 years']['MEDV'],\n",
    "                   boston_df[boston_df['age_group'] == '70 years and older']['MEDV'],\n",
    "                   center='mean'\n",
    "                  )"
   ]
  },
  {
   "cell_type": "code",
   "execution_count": 11,
   "id": "60c88f94-ca01-4e43-a19a-786289c5de82",
   "metadata": {},
   "outputs": [],
   "source": [
    "# Separate samples into a variable each\n",
    "\n",
    "thirtyfive_lower = boston_df[boston_df['age_group'] == '35 years and newer']['MEDV']\n",
    "between = boston_df[boston_df['age_group'] == 'between 35 and 70 years']['MEDV']\n",
    "seventy_older = boston_df[boston_df['age_group'] == '70 years and older']['MEDV']"
   ]
  },
  {
   "cell_type": "code",
   "execution_count": 13,
   "id": "99470c57-683e-403e-8f50-f3c6f4350882",
   "metadata": {},
   "outputs": [
    {
     "ename": "NameError",
     "evalue": "name 'scipy' is not defined",
     "output_type": "error",
     "traceback": [
      "\u001b[1;31m---------------------------------------------------------------------------\u001b[0m",
      "\u001b[1;31mNameError\u001b[0m                                 Traceback (most recent call last)",
      "Cell \u001b[1;32mIn[13], line 1\u001b[0m\n\u001b[1;32m----> 1\u001b[0m f_statistic, p_value \u001b[38;5;241m=\u001b[39m \u001b[43mscipy\u001b[49m\u001b[38;5;241m.\u001b[39mstats\u001b[38;5;241m.\u001b[39mf_oneway(thirtyfive_lower, between, seventy_older)\n\u001b[0;32m      2\u001b[0m \u001b[38;5;28mprint\u001b[39m(\u001b[38;5;124m\"\u001b[39m\u001b[38;5;124mF-statistic: \u001b[39m\u001b[38;5;132;01m{0}\u001b[39;00m\u001b[38;5;124m, P-value: \u001b[39m\u001b[38;5;132;01m{1}\u001b[39;00m\u001b[38;5;124m\"\u001b[39m\u001b[38;5;241m.\u001b[39mformat(f_statistic, p_value))\n",
      "\u001b[1;31mNameError\u001b[0m: name 'scipy' is not defined"
     ]
    }
   ],
   "source": [
    "f_statistic, p_value = scipy.stats.f_oneway(thirtyfive_lower, between, seventy_older)\n",
    "print(\"F-statistic: {0}, P-value: {1}\".format(f_statistic, p_value))"
   ]
  },
  {
   "cell_type": "markdown",
   "id": "27ddfd99-f204-4f4d-92b6-d04d52672854",
   "metadata": {},
   "source": [
    "**Conclusion**: Since the p-value is lower than 0.05, we are able to reject the null hypothesis as there is sufficent evidence to conclude that one of the means differs."
   ]
  },
  {
   "cell_type": "markdown",
   "id": "5adc8ce5-8045-4c63-83bb-b01bd29b0d9b",
   "metadata": {},
   "source": [
    "Can we conclude that there is no relationship between Nitric oxide concentrations and proportion of non-retail business acres per town? (Pearson Correlation) <br> State the hypothesis: <br> -   $H_0: u1 = u2$ (\\\"Nitric oxide concentration is not correlated with proportion of non-retail business acres per town\\\") <br> -   $H_1: u1 != u2$ (\\\"Nitric oxide concentration is correlated with proportion of non-retail business acres per town\\\")"
   ]
  },
  {
   "cell_type": "code",
   "execution_count": 14,
   "id": "c8e303c5-df56-49c5-b44e-e7762c4c21c0",
   "metadata": {},
   "outputs": [
    {
     "ename": "NameError",
     "evalue": "name 'sns' is not defined",
     "output_type": "error",
     "traceback": [
      "\u001b[1;31m---------------------------------------------------------------------------\u001b[0m",
      "\u001b[1;31mNameError\u001b[0m                                 Traceback (most recent call last)",
      "Cell \u001b[1;32mIn[14], line 1\u001b[0m\n\u001b[1;32m----> 1\u001b[0m ax \u001b[38;5;241m=\u001b[39m \u001b[43msns\u001b[49m\u001b[38;5;241m.\u001b[39mscatterplot(x\u001b[38;5;241m=\u001b[39m\u001b[38;5;124m'\u001b[39m\u001b[38;5;124mINDUS\u001b[39m\u001b[38;5;124m'\u001b[39m, y\u001b[38;5;241m=\u001b[39m\u001b[38;5;124m'\u001b[39m\u001b[38;5;124mNOX\u001b[39m\u001b[38;5;124m'\u001b[39m, data\u001b[38;5;241m=\u001b[39mboston_df)\n",
      "\u001b[1;31mNameError\u001b[0m: name 'sns' is not defined"
     ]
    }
   ],
   "source": [
    "ax = sns.scatterplot(x='INDUS', y='NOX', data=boston_df)"
   ]
  },
  {
   "cell_type": "code",
   "execution_count": 15,
   "id": "0b1b66f0-1db8-480b-96d3-504044f21631",
   "metadata": {},
   "outputs": [
    {
     "ename": "NameError",
     "evalue": "name 'scipy' is not defined",
     "output_type": "error",
     "traceback": [
      "\u001b[1;31m---------------------------------------------------------------------------\u001b[0m",
      "\u001b[1;31mNameError\u001b[0m                                 Traceback (most recent call last)",
      "Cell \u001b[1;32mIn[15], line 1\u001b[0m\n\u001b[1;32m----> 1\u001b[0m \u001b[43mscipy\u001b[49m\u001b[38;5;241m.\u001b[39mstats\u001b[38;5;241m.\u001b[39mpearsonr(boston_df[\u001b[38;5;124m'\u001b[39m\u001b[38;5;124mINDUS\u001b[39m\u001b[38;5;124m'\u001b[39m], boston_df[\u001b[38;5;124m'\u001b[39m\u001b[38;5;124mNOX\u001b[39m\u001b[38;5;124m'\u001b[39m])\n",
      "\u001b[1;31mNameError\u001b[0m: name 'scipy' is not defined"
     ]
    }
   ],
   "source": [
    "scipy.stats.pearsonr(boston_df['INDUS'], boston_df['NOX'])"
   ]
  },
  {
   "cell_type": "markdown",
   "id": "052bddf8-5713-4a7d-b5b1-0eb898fb09ac",
   "metadata": {},
   "source": [
    "**Conclusion:** Since the p-value is smaller than 0.05, we reject the null hypothesis and conclude that there exists a relationship between Nitric oxide levels and industry."
   ]
  },
  {
   "cell_type": "markdown",
   "id": "8975a2bb-1d5c-4eef-a148-6639b43cb4b0",
   "metadata": {},
   "source": [
    "What is the impact of an additional weighted distance  to the five Boston employment centres on the median value of owner occupied homes? (Regression analysis) <br> State the hypothesis: <br> -   $H_0: b1$ = 0 (Distance to employment centre has no effect on median value of homes) <br> -   $H_1: b2$ != 0 (Distance has an effect on median value of homes)"
   ]
  },
  {
   "cell_type": "code",
   "execution_count": 16,
   "id": "f9ab3536-bdd8-441a-8877-85c735373139",
   "metadata": {},
   "outputs": [
    {
     "ename": "NameError",
     "evalue": "name 'sm' is not defined",
     "output_type": "error",
     "traceback": [
      "\u001b[1;31m---------------------------------------------------------------------------\u001b[0m",
      "\u001b[1;31mNameError\u001b[0m                                 Traceback (most recent call last)",
      "Cell \u001b[1;32mIn[16], line 8\u001b[0m\n\u001b[0;32m      5\u001b[0m y \u001b[38;5;241m=\u001b[39m boston_df[\u001b[38;5;124m'\u001b[39m\u001b[38;5;124mMEDV\u001b[39m\u001b[38;5;124m'\u001b[39m]\n\u001b[0;32m      7\u001b[0m \u001b[38;5;66;03m# add an intercept to mdel\u001b[39;00m\n\u001b[1;32m----> 8\u001b[0m X\u001b[38;5;241m=\u001b[39m\u001b[43msm\u001b[49m\u001b[38;5;241m.\u001b[39madd_constant(X)\n\u001b[0;32m     10\u001b[0m model \u001b[38;5;241m=\u001b[39m sm\u001b[38;5;241m.\u001b[39mOLS(y, X)\u001b[38;5;241m.\u001b[39mfit()\n\u001b[0;32m     11\u001b[0m predictions \u001b[38;5;241m=\u001b[39m model\u001b[38;5;241m.\u001b[39mpredict(X)\n",
      "\u001b[1;31mNameError\u001b[0m: name 'sm' is not defined"
     ]
    }
   ],
   "source": [
    "# X is the input variable\n",
    "X = boston_df['DIS']\n",
    "\n",
    "# Y is dependent variable\n",
    "y = boston_df['MEDV']\n",
    "\n",
    "# add an intercept to mdel\n",
    "X=sm.add_constant(X)\n",
    "\n",
    "model = sm.OLS(y, X).fit()\n",
    "predictions = model.predict(X)\n",
    "\n",
    "#print statistics\n",
    "model.summary()"
   ]
  },
  {
   "cell_type": "markdown",
   "id": "83513f95-d94f-4b35-89f1-8b7f414b8386",
   "metadata": {},
   "source": [
    "**Conclusion:** p < 0.05 there is correlation between distance to employment centre and median house prices."
   ]
  }
 ],
 "metadata": {
  "kernelspec": {
   "display_name": "Python 3 (ipykernel)",
   "language": "python",
   "name": "python3"
  },
  "language_info": {
   "codemirror_mode": {
    "name": "ipython",
    "version": 3
   },
   "file_extension": ".py",
   "mimetype": "text/x-python",
   "name": "python",
   "nbconvert_exporter": "python",
   "pygments_lexer": "ipython3",
   "version": "3.12.2"
  }
 },
 "nbformat": 4,
 "nbformat_minor": 5
}
